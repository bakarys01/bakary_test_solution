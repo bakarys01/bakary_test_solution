{
 "cells": [
  {
   "cell_type": "markdown",
   "metadata": {},
   "source": [
    "# Context"
   ]
  },
  {
   "cell_type": "markdown",
   "metadata": {},
   "source": [
    "<div class=\"alert alert-block alert-success\"><b>\n",
    "    \n",
    "We develop a technology that allows a viewer watching a video online to download the video data either from the broadcaster's Content Delivery Network ('CDN') or from a Peer to Peer Network, using other viewers on the same stream as sources.\n",
    "\n",
    "During their session, each viewer sends payloads **every two minutes**, containing some metrics collected by our P2P client. The dataset attached to this file (**dstest.zip**) is a sample of those payloads. Each row is a payload sent by a viewer, and has the following columns:\n",
    "\n",
    "* **company** : The name of the company providing the stream being watched by the user that sent the payload\n",
    "* **live** : A string indicating if the video being watched is a live stream or a VOD stream\n",
    "* **content** : The name of the content being watched by the viewer sending the payload\n",
    "* **p2p** : The volume of data (in bytes) **downloaded through the P2P network** from other viewers during the payload timespan (2 minutes)\n",
    "* **cdn** : The volume of data (in bytes) **downloaded the CDN** during the payload timespan (2 minutes)\n",
    "* **upload** : The volume of data (in bytes) **uploaded to other viewers** on the P2P network during the payload timespan (2 minutes)\n",
    "* **peers_count** : Average number of peers connected to the users during the payload timespan\n",
    "* **timestamp** : Unix timestamp (UTC) of the moment the payload was sent\n",
    "* **sessionDuration** : **Total time** elapsed since the beginning of the video session (in milliseconds)\n",
    "* **playbackErrorCount** : Number of playback errors that occurred during the payload timespan\n",
    "* **totalPlaybackErrorCount** : Number of playback errors that have occurred since the beginning of the viewer's session\n",
    "\n",
    "</b></div>"
   ]
  },
  {
   "cell_type": "markdown",
   "metadata": {},
   "source": [
    "# Packages"
   ]
  },
  {
   "cell_type": "code",
   "execution_count": 1,
   "metadata": {},
   "outputs": [],
   "source": [
    "import numpy as np\n",
    "import pandas as pd\n",
    "\n",
    "import seaborn as sns\n",
    "import matplotlib.pyplot as plt\n",
    "\n",
    "import warnings\n",
    "warnings.filterwarnings(\"ignore\")\n",
    "\n",
    "%matplotlib inline\n",
    "%load_ext autoreload\n",
    "%autoreload 2\n",
    "\n",
    "np.random.seed(1)\n",
    "\n",
    "pd.set_option('display.max_rows', 50)\n",
    "pd.set_option('display.max_columns', 50)\n",
    "# pd.set_option('display.width', 1000)"
   ]
  },
  {
   "cell_type": "code",
   "execution_count": 2,
   "metadata": {},
   "outputs": [
    {
     "data": {
      "text/plain": [
       "(385165, 13)"
      ]
     },
     "execution_count": 2,
     "metadata": {},
     "output_type": "execute_result"
    }
   ],
   "source": [
    "data = pd.read_csv('dataMining/dstest.csv')\n",
    "\n",
    "df = data.copy()\n",
    "# data shape\n",
    "data.shape"
   ]
  },
  {
   "cell_type": "markdown",
   "metadata": {},
   "source": [
    "### **Question 1**\n",
    "<div class=\"alert alert-block alert-success\"><b>\n",
    "    \n",
    "To evaluate the perfomance I propose to use $$\\frac{p2p}{p2p + cdn}$$\n",
    "\n",
    "This measures the proportion of data acquired through the p2p network. There are severl reasons for this choice.\n",
    "\n",
    "First, we might want to use *upload* for the performance measure but this would mean that we count the data exchange twice if we take the average performance for a company. Indeed, the *upload* measure has to appear in the *p2p* measure of other payloads. Of course, *upload* like *peers_count* give interesting information about the p2p network but this is not a direct observation of the performance.\n",
    "\n",
    "Another advantage of this measure is that it's bounded to [0,1]. With 0% performance everything is handled by the cdn, which is the worst case scenario. With 100% performance everything is handled by the p2p network, which is the best case scenario. \n",
    "\n",
    "Finally, even though the playback errors are an important measure of performance it shouldn't be used here. First because we can't know if the errors are caused by the \"solution\" or by errors on the client or cdn side. And use the  number of errors in this performance measure might make it more complex to derive conclusions from it. It's better to keep it simple.\n",
    "    \n",
    "</b></div>"
   ]
  },
  {
   "cell_type": "code",
   "execution_count": 3,
   "metadata": {},
   "outputs": [
    {
     "data": {
      "text/html": [
       "<div>\n",
       "<style scoped>\n",
       "    .dataframe tbody tr th:only-of-type {\n",
       "        vertical-align: middle;\n",
       "    }\n",
       "\n",
       "    .dataframe tbody tr th {\n",
       "        vertical-align: top;\n",
       "    }\n",
       "\n",
       "    .dataframe thead th {\n",
       "        text-align: right;\n",
       "    }\n",
       "</style>\n",
       "<table border=\"1\" class=\"dataframe\">\n",
       "  <thead>\n",
       "    <tr style=\"text-align: right;\">\n",
       "      <th></th>\n",
       "      <th>company</th>\n",
       "      <th>live</th>\n",
       "      <th>mediaEngine</th>\n",
       "      <th>p2p</th>\n",
       "      <th>cdn</th>\n",
       "      <th>upload</th>\n",
       "      <th>peers_count</th>\n",
       "      <th>peers_match</th>\n",
       "      <th>timestamp</th>\n",
       "      <th>sessionDuration</th>\n",
       "      <th>playbackErrorCount</th>\n",
       "      <th>totalPlaybackErrorCount</th>\n",
       "      <th>content</th>\n",
       "    </tr>\n",
       "  </thead>\n",
       "  <tbody>\n",
       "    <tr>\n",
       "      <th>0</th>\n",
       "      <td>Streamroot TV</td>\n",
       "      <td>VOD</td>\n",
       "      <td>ME1</td>\n",
       "      <td>0.0</td>\n",
       "      <td>8507376.0</td>\n",
       "      <td>0.0</td>\n",
       "      <td>0.0</td>\n",
       "      <td>1</td>\n",
       "      <td>1562469807407</td>\n",
       "      <td>120000.0</td>\n",
       "      <td>0</td>\n",
       "      <td>0</td>\n",
       "      <td>content-09235</td>\n",
       "    </tr>\n",
       "    <tr>\n",
       "      <th>1</th>\n",
       "      <td>Streamroot TV</td>\n",
       "      <td>VOD</td>\n",
       "      <td>ME1</td>\n",
       "      <td>0.0</td>\n",
       "      <td>5778744.0</td>\n",
       "      <td>0.0</td>\n",
       "      <td>0.0</td>\n",
       "      <td>0</td>\n",
       "      <td>1562469927310</td>\n",
       "      <td>240000.0</td>\n",
       "      <td>0</td>\n",
       "      <td>0</td>\n",
       "      <td>content-09235</td>\n",
       "    </tr>\n",
       "    <tr>\n",
       "      <th>2</th>\n",
       "      <td>Streamroot TV</td>\n",
       "      <td>VOD</td>\n",
       "      <td>ME1</td>\n",
       "      <td>0.0</td>\n",
       "      <td>7692960.0</td>\n",
       "      <td>0.0</td>\n",
       "      <td>0.0</td>\n",
       "      <td>0</td>\n",
       "      <td>1562470047330</td>\n",
       "      <td>360000.0</td>\n",
       "      <td>0</td>\n",
       "      <td>0</td>\n",
       "      <td>content-09235</td>\n",
       "    </tr>\n",
       "    <tr>\n",
       "      <th>3</th>\n",
       "      <td>Streamroot TV</td>\n",
       "      <td>VOD</td>\n",
       "      <td>ME1</td>\n",
       "      <td>0.0</td>\n",
       "      <td>8229888.0</td>\n",
       "      <td>0.0</td>\n",
       "      <td>0.0</td>\n",
       "      <td>0</td>\n",
       "      <td>1562470167720</td>\n",
       "      <td>480000.0</td>\n",
       "      <td>0</td>\n",
       "      <td>0</td>\n",
       "      <td>content-09235</td>\n",
       "    </tr>\n",
       "    <tr>\n",
       "      <th>4</th>\n",
       "      <td>Streamroot TV</td>\n",
       "      <td>VOD</td>\n",
       "      <td>ME1</td>\n",
       "      <td>0.0</td>\n",
       "      <td>10387000.0</td>\n",
       "      <td>0.0</td>\n",
       "      <td>0.0</td>\n",
       "      <td>0</td>\n",
       "      <td>1562470287353</td>\n",
       "      <td>600000.0</td>\n",
       "      <td>0</td>\n",
       "      <td>0</td>\n",
       "      <td>content-09235</td>\n",
       "    </tr>\n",
       "  </tbody>\n",
       "</table>\n",
       "</div>"
      ],
      "text/plain": [
       "         company live mediaEngine  p2p         cdn  upload  peers_count  \\\n",
       "0  Streamroot TV  VOD         ME1  0.0   8507376.0     0.0          0.0   \n",
       "1  Streamroot TV  VOD         ME1  0.0   5778744.0     0.0          0.0   \n",
       "2  Streamroot TV  VOD         ME1  0.0   7692960.0     0.0          0.0   \n",
       "3  Streamroot TV  VOD         ME1  0.0   8229888.0     0.0          0.0   \n",
       "4  Streamroot TV  VOD         ME1  0.0  10387000.0     0.0          0.0   \n",
       "\n",
       "   peers_match      timestamp  sessionDuration  playbackErrorCount  \\\n",
       "0            1  1562469807407         120000.0                   0   \n",
       "1            0  1562469927310         240000.0                   0   \n",
       "2            0  1562470047330         360000.0                   0   \n",
       "3            0  1562470167720         480000.0                   0   \n",
       "4            0  1562470287353         600000.0                   0   \n",
       "\n",
       "   totalPlaybackErrorCount        content  \n",
       "0                        0  content-09235  \n",
       "1                        0  content-09235  \n",
       "2                        0  content-09235  \n",
       "3                        0  content-09235  \n",
       "4                        0  content-09235  "
      ]
     },
     "execution_count": 3,
     "metadata": {},
     "output_type": "execute_result"
    }
   ],
   "source": [
    "data.head()"
   ]
  },
  {
   "cell_type": "code",
   "execution_count": 4,
   "metadata": {},
   "outputs": [
    {
     "data": {
      "text/plain": [
       "array(['ME1', 'ME2'], dtype=object)"
      ]
     },
     "execution_count": 4,
     "metadata": {},
     "output_type": "execute_result"
    }
   ],
   "source": [
    "data.mediaEngine.unique()"
   ]
  },
  {
   "cell_type": "code",
   "execution_count": 5,
   "metadata": {},
   "outputs": [
    {
     "data": {
      "text/plain": [
       "array(['VOD', 'Live'], dtype=object)"
      ]
     },
     "execution_count": 5,
     "metadata": {},
     "output_type": "execute_result"
    }
   ],
   "source": [
    "data.live.unique()"
   ]
  },
  {
   "cell_type": "code",
   "execution_count": 6,
   "metadata": {},
   "outputs": [
    {
     "data": {
      "text/plain": [
       "array(['Streamroot TV', 'Flash Infos', 'Sports News'], dtype=object)"
      ]
     },
     "execution_count": 6,
     "metadata": {},
     "output_type": "execute_result"
    }
   ],
   "source": [
    "data.company.unique()"
   ]
  },
  {
   "cell_type": "code",
   "execution_count": 7,
   "metadata": {},
   "outputs": [
    {
     "data": {
      "text/plain": [
       "array(['content-09235', 'content-17013', 'content-08963', ...,\n",
       "       'content-04063', 'content-07336', 'content-15027'], dtype=object)"
      ]
     },
     "execution_count": 7,
     "metadata": {},
     "output_type": "execute_result"
    }
   ],
   "source": [
    "data.content.unique()"
   ]
  },
  {
   "cell_type": "markdown",
   "metadata": {},
   "source": [
    "- **response**"
   ]
  },
  {
   "cell_type": "code",
   "execution_count": 8,
   "metadata": {},
   "outputs": [],
   "source": [
    "data['performance'] = (data['p2p'] / (data['p2p'] + data['cdn']))**2"
   ]
  },
  {
   "cell_type": "code",
   "execution_count": 9,
   "metadata": {},
   "outputs": [
    {
     "data": {
      "text/plain": [
       "company\n",
       "Flash Infos      0.334117\n",
       "Sports News      0.199073\n",
       "Streamroot TV    0.413680\n",
       "Name: performance, dtype: float64"
      ]
     },
     "execution_count": 9,
     "metadata": {},
     "output_type": "execute_result"
    }
   ],
   "source": [
    "data.groupby('company')['company','performance'].mean()['performance']"
   ]
  },
  {
   "cell_type": "markdown",
   "metadata": {},
   "source": [
    "### **Question 2**\n",
    "\n",
    "\n",
    "#### 2.1:\n",
    "\n",
    "<div class=\"alert alert-block alert-success\"><b>\n",
    "    \n",
    "*sessionDuration* should be 2min (120000ms).\n",
    "</b></div>\n",
    "\n",
    "#### 2.2 & 2.3 :\n",
    "    \n"
   ]
  },
  {
   "cell_type": "code",
   "execution_count": 10,
   "metadata": {},
   "outputs": [
    {
     "data": {
      "text/plain": [
       "company\n",
       "Flash Infos        805\n",
       "Sports News        115\n",
       "Streamroot TV    19914\n",
       "dtype: int64"
      ]
     },
     "execution_count": 10,
     "metadata": {},
     "output_type": "execute_result"
    }
   ],
   "source": [
    "data['isFirstPayload'] = data['sessionDuration'] == 120000.0\n",
    "data[data['isFirstPayload']].groupby('company').size()"
   ]
  },
  {
   "cell_type": "markdown",
   "metadata": {},
   "source": [
    "### **Question 3**\n",
    "\n",
    "#### 3.1\n",
    "<div class=\"alert alert-block alert-success\"><b>\n",
    "\n",
    "\n",
    "| Payload | playbackErrorCount | totalPlaybackErrorCount |\n",
    "|---------|--------------------|-------------------------|\n",
    "| 1       | 0                  | 0                       |\n",
    "| 2       | 1                  | 1                       |\n",
    "| 3       | 0                  | 1                       |\n",
    "| 4       | 1                  | 2                       |\n",
    "| 5       | 0                  | 2                       |\n",
    "\n",
    "</b></div>\n",
    "\n",
    "#### 3.2\n",
    "<div class=\"alert alert-block alert-success\"><b>\n",
    "    \n",
    "*playbackErrorCount* is equal to *totalPlaybackErrorCount* just once per session. Which mean that we only need to count the number of payloads where these values are equal and greater than 0.\n",
    "\n",
    "There are **9** distinct viewers that had at least 1 playback error during their session.\n",
    "\n",
    "</b></div>"
   ]
  },
  {
   "cell_type": "code",
   "execution_count": 11,
   "metadata": {},
   "outputs": [
    {
     "data": {
      "text/plain": [
       "9"
      ]
     },
     "execution_count": 11,
     "metadata": {},
     "output_type": "execute_result"
    }
   ],
   "source": [
    "len(data[(data['playbackErrorCount'] == data['totalPlaybackErrorCount']) & data['playbackErrorCount'] > 0].index)"
   ]
  },
  {
   "cell_type": "markdown",
   "metadata": {},
   "source": [
    "### **Question 4**\n",
    "#### 4.1\n"
   ]
  },
  {
   "cell_type": "code",
   "execution_count": 12,
   "metadata": {},
   "outputs": [],
   "source": [
    "data['readableDate'] =  pd.to_datetime(data['timestamp'], unit='ms').dt.round('2min')"
   ]
  },
  {
   "cell_type": "markdown",
   "metadata": {},
   "source": [
    "#### 4.2"
   ]
  },
  {
   "cell_type": "code",
   "execution_count": 13,
   "metadata": {},
   "outputs": [],
   "source": [
    "concurrency = data[data['content'] == 'content-05335'].groupby('readableDate')['performance'].agg(['count'])"
   ]
  },
  {
   "cell_type": "code",
   "execution_count": 14,
   "metadata": {},
   "outputs": [
    {
     "data": {
      "image/png": "[encoded data removed]",
      "text/plain": [
       "<Figure size 720x720 with 1 Axes>"
      ]
     },
     "metadata": {
      "needs_background": "light"
     },
     "output_type": "display_data"
    }
   ],
   "source": [
    "# Create figure and plot space\n",
    "fig, ax = plt.subplots(figsize=(10, 10))\n",
    "\n",
    "# Add x-axis and y-axis\n",
    "ax.plot(concurrency['count'].index.values,\n",
    "        concurrency['count'],\n",
    "        color='purple')\n",
    "\n",
    "# Rotate tick marks on x-axis\n",
    "plt.setp(ax.get_xticklabels(), rotation=45)\n",
    "\n",
    "plt.show()"
   ]
  },
  {
   "cell_type": "code",
   "execution_count": null,
   "metadata": {},
   "outputs": [],
   "source": []
  }
 ],
 "metadata": {
  "kernelspec": {
   "display_name": "Python 3",
   "language": "python",
   "name": "python3"
  },
  "language_info": {
   "codemirror_mode": {
    "name": "ipython",
    "version": 3
   },
   "file_extension": ".py",
   "mimetype": "text/x-python",
   "name": "python",
   "nbconvert_exporter": "python",
   "pygments_lexer": "ipython3",
   "version": "3.7.6"
  }
 },
 "nbformat": 4,
 "nbformat_minor": 4
}
